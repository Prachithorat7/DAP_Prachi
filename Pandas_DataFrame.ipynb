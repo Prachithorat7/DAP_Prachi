{
  "nbformat": 4,
  "nbformat_minor": 0,
  "metadata": {
    "colab": {
      "provenance": []
    },
    "kernelspec": {
      "name": "python3",
      "display_name": "Python 3"
    },
    "language_info": {
      "name": "python"
    }
  },
  "cells": [
    {
      "cell_type": "code",
      "execution_count": 1,
      "metadata": {
        "colab": {
          "base_uri": "https://localhost:8080/"
        },
        "id": "0xd9MfdR-Se4",
        "outputId": "43a39591-d232-4cc9-c35a-13811861f77c"
      },
      "outputs": [
        {
          "output_type": "stream",
          "name": "stdout",
          "text": [
            "DataFrame:\n",
            "   Math  English  Hindi\n",
            "0    78       84     86\n",
            "1    85       94     97\n",
            "2    96       89     96\n",
            "3    80       83     72\n",
            "4    86       86     83\n"
          ]
        }
      ],
      "source": [
        "import pandas as pd\n",
        "\n",
        "score = {\n",
        "    'Math': [78, 85, 96, 80, 86],\n",
        "    'English': [84, 94, 89, 83, 86],\n",
        "    'Hindi': [86, 97, 96, 72, 83]\n",
        "}\n",
        "df = pd.DataFrame(score)\n",
        "\n",
        "print(\"DataFrame:\")\n",
        "print(df)"
      ]
    },
    {
      "cell_type": "code",
      "source": [
        "import pandas as pd\n",
        "import numpy as np\n",
        "\n",
        "exam_data = {\n",
        "    'name': ['Anastasia', 'Dima', 'Katherine', 'James', 'Emily', 'Michael', 'Matthew', 'Laura', 'Kevin', 'Jonas'],\n",
        "    'score': [12.5, 9, 16.5, np.nan, 9, 20, 14.5, np.nan, 8, 19],\n",
        "    'attempts': [1, 3, 2, 3, 2, 3, 1, 1, 2, 1],\n",
        "    'qualify': ['yes', 'no', 'yes', 'no', 'no', 'yes', 'yes', 'no', 'no', 'yes']\n",
        "}\n",
        "\n",
        "df = pd.DataFrame(exam_data)\n",
        "first_three_rows = df.head(3)\n",
        "\n",
        "print(\"First 3 Rows of the DataFrame:\")\n",
        "print(first_three_rows)\n"
      ],
      "metadata": {
        "colab": {
          "base_uri": "https://localhost:8080/"
        },
        "id": "d6L25oL--iDn",
        "outputId": "61bd539c-dafb-43aa-db66-e0fb6199226f"
      },
      "execution_count": 2,
      "outputs": [
        {
          "output_type": "stream",
          "name": "stdout",
          "text": [
            "First 3 Rows of the DataFrame:\n",
            "        name  score  attempts qualify\n",
            "0  Anastasia   12.5         1     yes\n",
            "1       Dima    9.0         3      no\n",
            "2  Katherine   16.5         2     yes\n"
          ]
        }
      ]
    }
  ]
}