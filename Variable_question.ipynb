{
  "nbformat": 4,
  "nbformat_minor": 0,
  "metadata": {
    "colab": {
      "provenance": []
    },
    "kernelspec": {
      "name": "python3",
      "display_name": "Python 3"
    },
    "language_info": {
      "name": "python"
    }
  },
  "cells": [
    {
      "cell_type": "code",
      "execution_count": 1,
      "metadata": {
        "colab": {
          "base_uri": "https://localhost:8080/"
        },
        "id": "C7IqK5tRd413",
        "outputId": "68a540fc-13ce-4b81-9b89-3a12d824c659"
      },
      "outputs": [
        {
          "output_type": "stream",
          "name": "stdout",
          "text": [
            "Enter temperature in Celsius: 40\n",
            "Temperature in Fahrenheit: 104.00°F\n"
          ]
        }
      ],
      "source": [
        "#Python program to convert the temperature in degree centigrade to Fahrenheit\n",
        "\n",
        "# Function to convert Celsius to Fahrenheit\n",
        "def celsius_to_fahrenheit(celsius):\n",
        "    fahrenheit = (celsius * 9/5) + 32\n",
        "    return fahrenheit\n",
        "\n",
        "# Input from user\n",
        "celsius = float(input(\"Enter temperature in Celsius: \"))\n",
        "\n",
        "# Convert and display the result\n",
        "fahrenheit = celsius_to_fahrenheit(celsius)\n",
        "print(f\"Temperature in Fahrenheit: {fahrenheit:.2f}°F\")\n"
      ]
    },
    {
      "cell_type": "code",
      "source": [],
      "metadata": {
        "id": "-0O0_INGeEbO"
      },
      "execution_count": null,
      "outputs": []
    }
  ]
}