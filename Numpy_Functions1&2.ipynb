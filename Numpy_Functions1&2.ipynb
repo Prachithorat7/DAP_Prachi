{
  "nbformat": 4,
  "nbformat_minor": 0,
  "metadata": {
    "colab": {
      "provenance": []
    },
    "kernelspec": {
      "name": "python3",
      "display_name": "Python 3"
    },
    "language_info": {
      "name": "python"
    }
  },
  "cells": [
    {
      "cell_type": "code",
      "execution_count": 1,
      "metadata": {
        "colab": {
          "base_uri": "https://localhost:8080/"
        },
        "id": "qnClA56JZK1j",
        "outputId": "789e81c3-7606-425b-c6a6-50b692bd4d19"
      },
      "outputs": [
        {
          "output_type": "stream",
          "name": "stdout",
          "text": [
            "Indices of extreme days: [2 5 9]\n",
            "Extreme temperatures: [36.8 38.7 37.2]\n"
          ]
        }
      ],
      "source": [
        "# Suppose you have a dataset containing daily temperature readings for a city, and you want to identify days with extreme temperature conditions. Find days where the temperature either exceeded 35 degrees Celsius (hot day) or dropped below 5 degrees Celsius (cold day). Input: temperatures = np.array([32.5, 34.2, 36.8, 29.3, 31.0, 38.7, 23.1, 18.5, 22.8, 37.2])\n",
        "\n",
        "import numpy as np\n",
        "\n",
        "\n",
        "temperatures = np.array([32.5, 34.2, 36.8, 29.3, 31.0, 38.7, 23.1, 18.5, 22.8, 37.2])\n",
        "\n",
        "extreme_days = np.where((temperatures > 35) | (temperatures < 5))\n",
        "\n",
        "print(\"Indices of extreme days:\", extreme_days[0])\n",
        "print(\"Extreme temperatures:\", temperatures[extreme_days])\n"
      ]
    },
    {
      "cell_type": "code",
      "source": [
        "# 2. Suppose you have a dataset containing monthly sales data for a company, and you want to split this data into quarterly reports for analysis and reporting purposes.\n",
        "\n",
        "#Input: monthly_sales = np.array([120, 135, 148, 165, 180, 155, 168, 190, 205, 198, 210, 225])\n",
        "\n",
        "import numpy as np\n",
        "\n",
        "monthly_sales = np.array([120, 135, 148, 165, 180, 155, 168, 190, 205, 198, 210, 225])\n",
        "\n",
        "quarterly_sales = np.split(monthly_sales, 4)\n",
        "\n",
        "for i, quarter in enumerate(quarterly_sales, 1):\n",
        "    print(f\"Quarter {i}: {quarter}\")\n",
        "\n"
      ],
      "metadata": {
        "colab": {
          "base_uri": "https://localhost:8080/"
        },
        "id": "R04G1lfdaouk",
        "outputId": "0eb2bcab-841e-47cf-ae99-0b9bdde3b666"
      },
      "execution_count": 2,
      "outputs": [
        {
          "output_type": "stream",
          "name": "stdout",
          "text": [
            "Quarter 1: [120 135 148]\n",
            "Quarter 2: [165 180 155]\n",
            "Quarter 3: [168 190 205]\n",
            "Quarter 4: [198 210 225]\n"
          ]
        }
      ]
    },
    {
      "cell_type": "code",
      "source": [],
      "metadata": {
        "id": "3X5CJ8i8c-xf"
      },
      "execution_count": null,
      "outputs": []
    }
  ]
}