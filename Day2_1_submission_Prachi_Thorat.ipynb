{
  "nbformat": 4,
  "nbformat_minor": 0,
  "metadata": {
    "colab": {
      "provenance": []
    },
    "kernelspec": {
      "name": "python3",
      "display_name": "Python 3"
    },
    "language_info": {
      "name": "python"
    }
  },
  "cells": [
    {
      "cell_type": "code",
      "execution_count": 1,
      "metadata": {
        "colab": {
          "base_uri": "https://localhost:8080/"
        },
        "id": "ZeH2dAsYGU9b",
        "outputId": "e78b09d4-6c99-4603-c39e-4e2760eeedcf"
      },
      "outputs": [
        {
          "output_type": "stream",
          "name": "stdout",
          "text": [
            "The largest number is: 20\n"
          ]
        }
      ],
      "source": [
        "#Declare two variables and print that which variable is largest using ternary operators\n",
        "a = 10\n",
        "b = 20\n",
        "\n",
        "largest = a if a > b else b\n",
        "\n",
        "print(\"The largest number is:\", largest)\n",
        "\n"
      ]
    },
    {
      "cell_type": "code",
      "source": [],
      "metadata": {
        "id": "9h10xo0CHAzt"
      },
      "execution_count": null,
      "outputs": []
    }
  ]
}