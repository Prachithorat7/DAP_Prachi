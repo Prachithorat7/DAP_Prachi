{
  "nbformat": 4,
  "nbformat_minor": 0,
  "metadata": {
    "colab": {
      "provenance": []
    },
    "kernelspec": {
      "name": "python3",
      "display_name": "Python 3"
    },
    "language_info": {
      "name": "python"
    }
  },
  "cells": [
    {
      "cell_type": "code",
      "execution_count": null,
      "metadata": {
        "colab": {
          "base_uri": "https://localhost:8080/"
        },
        "id": "ov_KvMdS7RJz",
        "outputId": "8602f128-fd8e-408b-83ec-e0cecc1aa630"
      },
      "outputs": [
        {
          "output_type": "stream",
          "name": "stdout",
          "text": [
            "DataFrame after dropping rows with missing values:\n",
            "     ord_no  purch_amt    ord_date  customer_id  salesman_id\n",
            "0  70001.0     150.50  2012-10-05         3002       5002.0\n",
            "5  70005.0    2400.60  2012-07-27         3001       5001.0\n",
            "8  70003.0    2480.40  2012-10-10         3003       5003.0\n",
            "9  70012.0     250.45  2012-06-27         3002       5002.0\n"
          ]
        }
      ],
      "source": [
        "\n",
        "\n",
        "import pandas as pd\n",
        "import numpy as np\n",
        "\n",
        "df = pd.DataFrame({\n",
        "    'ord_no': [70001, np.nan, 70002, 70004, np.nan, 70005, np.nan, 70010, 70003, 70012, np.nan, 70013],\n",
        "    'purch_amt': [150.5, 270.65, 65.26, 110.5, 948.5, 2400.6, 5760, 1983.43, 2480.4, 250.45, 75.29, 3045.6],\n",
        "    'ord_date': ['2012-10-05', '2012-09-10', np.nan, '2012-08-17', '2012-09-10', '2012-07-27', '2012-09-10', '2012-10-10', '2012-10-10', '2012-06-27', '2012-08-17', '2012-04-25'],\n",
        "    'customer_id': [3002, 3001, 3001, 3003, 3002, 3001, 3001, 3004, 3003, 3002, 3001, 3001],\n",
        "    'salesman_id': [5002, 5003, 5001, np.nan, 5002, 5001, 5001, np.nan, 5003, 5002, 5003, np.nan]\n",
        "})\n",
        "\n",
        "df_cleaned = df.dropna()\n",
        "\n",
        "print(\"DataFrame after dropping rows with missing values:\\n\", df_cleaned)\n"
      ]
    },
    {
      "cell_type": "code",
      "source": [],
      "metadata": {
        "id": "3nW5hirL7U26"
      },
      "execution_count": null,
      "outputs": []
    }
  ]
}