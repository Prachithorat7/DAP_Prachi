{
  "nbformat": 4,
  "nbformat_minor": 0,
  "metadata": {
    "colab": {
      "provenance": []
    },
    "kernelspec": {
      "name": "python3",
      "display_name": "Python 3"
    },
    "language_info": {
      "name": "python"
    }
  },
  "cells": [
    {
      "cell_type": "code",
      "execution_count": 2,
      "metadata": {
        "colab": {
          "base_uri": "https://localhost:8080/"
        },
        "id": "5wXE7xoLgQH-",
        "outputId": "0d3adb61-4b08-424f-a791-eae2b7abc9af"
      },
      "outputs": [
        {
          "output_type": "stream",
          "name": "stdout",
          "text": [
            "[ 5.5 30.6 34. ]\n"
          ]
        }
      ],
      "source": [
        "#Numpy stats 1\n",
        "#1. How to find the mean of every NumPy array in the given list?\n",
        "\n",
        "#Input: list = [ np.array([3, 2, 8, 9]), np.array([4, 12, 34, 25, 78]), np.array([23, 12, 67]) ]\n",
        "\n",
        "import numpy as np\n",
        "\n",
        "list = [np.array([3, 2, 8, 9]), np.array([4, 12, 34, 25, 78]), np.array([23, 12, 67])]\n",
        "means = np.array([arr.mean() for arr in list])\n",
        "\n",
        "print(means)\n"
      ]
    },
    {
      "cell_type": "code",
      "source": [
        "#Numpy stats 2\n",
        "\n",
        "#Compute the standard deviation of the NumPy array Input: arr = [20, 2, 7, 1, 34]\n",
        "import numpy as np\n",
        "\n",
        "arr = np.array([20, 2, 7, 1, 34])\n",
        "std_dev = np.std(arr)\n",
        "\n",
        "print(std_dev)\n",
        "\n"
      ],
      "metadata": {
        "colab": {
          "base_uri": "https://localhost:8080/"
        },
        "id": "_gsIsU1ugiTI",
        "outputId": "59ebd37a-77cb-4e2c-9d95-2c5bbc9a4c9d"
      },
      "execution_count": 3,
      "outputs": [
        {
          "output_type": "stream",
          "name": "stdout",
          "text": [
            "12.576167937809991\n"
          ]
        }
      ]
    },
    {
      "cell_type": "code",
      "source": [],
      "metadata": {
        "id": "OGq2cJZqg7_B"
      },
      "execution_count": null,
      "outputs": []
    }
  ]
}