{
  "nbformat": 4,
  "nbformat_minor": 0,
  "metadata": {
    "colab": {
      "provenance": []
    },
    "kernelspec": {
      "name": "python3",
      "display_name": "Python 3"
    },
    "language_info": {
      "name": "python"
    }
  },
  "cells": [
    {
      "cell_type": "code",
      "execution_count": 1,
      "metadata": {
        "colab": {
          "base_uri": "https://localhost:8080/"
        },
        "id": "qnClA56JZK1j",
        "outputId": "789e81c3-7606-425b-c6a6-50b692bd4d19"
      },
      "outputs": [
        {
          "output_type": "stream",
          "name": "stdout",
          "text": [
            "Indices of extreme days: [2 5 9]\n",
            "Extreme temperatures: [36.8 38.7 37.2]\n"
          ]
        }
      ],
      "source": [
        "# Suppose you have a dataset containing daily temperature readings for a city, and you want to identify days with extreme temperature conditions. Find days where the temperature either exceeded 35 degrees Celsius (hot day) or dropped below 5 degrees Celsius (cold day). Input: temperatures = np.array([32.5, 34.2, 36.8, 29.3, 31.0, 38.7, 23.1, 18.5, 22.8, 37.2])\n",
        "\n",
        "import numpy as np\n",
        "\n",
        "\n",
        "temperatures = np.array([32.5, 34.2, 36.8, 29.3, 31.0, 38.7, 23.1, 18.5, 22.8, 37.2])\n",
        "\n",
        "extreme_days = np.where((temperatures > 35) | (temperatures < 5))\n",
        "\n",
        "print(\"Indices of extreme days:\", extreme_days[0])\n",
        "print(\"Extreme temperatures:\", temperatures[extreme_days])\n"
      ]
    },
    {
      "cell_type": "code",
      "source": [],
      "metadata": {
        "id": "R04G1lfdaouk"
      },
      "execution_count": null,
      "outputs": []
    }
  ]
}