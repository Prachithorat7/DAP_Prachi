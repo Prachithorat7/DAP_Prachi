{
  "nbformat": 4,
  "nbformat_minor": 0,
  "metadata": {
    "colab": {
      "provenance": []
    },
    "kernelspec": {
      "name": "python3",
      "display_name": "Python 3"
    },
    "language_info": {
      "name": "python"
    }
  },
  "cells": [
    {
      "cell_type": "code",
      "execution_count": 1,
      "metadata": {
        "colab": {
          "base_uri": "https://localhost:8080/"
        },
        "id": "RTws-XjufPVF",
        "outputId": "d1674392-c317-40c2-dc4e-2e622d64e706"
      },
      "outputs": [
        {
          "output_type": "stream",
          "name": "stdout",
          "text": [
            "[[ 2  3  4]\n",
            " [ 5  6  7]\n",
            " [ 8  9 10]]\n"
          ]
        }
      ],
      "source": [
        "#Write a NumPy program to create a 3x3 matrix with values ranging from 2 to 10.\n",
        "\n",
        "import numpy as np\n",
        "\n",
        "matrix = np.arange(2, 11).reshape(3, 3)\n",
        "\n",
        "print(matrix)\n"
      ]
    },
    {
      "cell_type": "code",
      "source": [],
      "metadata": {
        "id": "F0nq2vS3fWxU"
      },
      "execution_count": null,
      "outputs": []
    }
  ]
}